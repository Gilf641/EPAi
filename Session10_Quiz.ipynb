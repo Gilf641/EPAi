{
  "nbformat": 4,
  "nbformat_minor": 0,
  "metadata": {
    "colab": {
      "name": "Session10-Quiz",
      "provenance": [],
      "collapsed_sections": [],
      "authorship_tag": "ABX9TyMOkt3mla3jnDOfgYelMwBt",
      "include_colab_link": true
    },
    "kernelspec": {
      "name": "python3",
      "display_name": "Python 3"
    }
  },
  "cells": [
    {
      "cell_type": "markdown",
      "metadata": {
        "id": "view-in-github",
        "colab_type": "text"
      },
      "source": [
        "<a href=\"https://colab.research.google.com/github/Gilf641/EPAi/blob/master/Session10_Quiz.ipynb\" target=\"_parent\"><img src=\"https://colab.research.google.com/assets/colab-badge.svg\" alt=\"Open In Colab\"/></a>"
      ]
    },
    {
      "cell_type": "markdown",
      "metadata": {
        "id": "gDvZUtsVzzzB"
      },
      "source": [
        "## Import Libraries"
      ]
    },
    {
      "cell_type": "code",
      "metadata": {
        "id": "luAcbwqS0ijh",
        "outputId": "e0d7d147-451b-46a0-b5d7-8fda1e5dfd89",
        "colab": {
          "base_uri": "https://localhost:8080/",
          "height": 315
        }
      },
      "source": [
        "!pip install faker"
      ],
      "execution_count": null,
      "outputs": [
        {
          "output_type": "stream",
          "text": [
            "Requirement already satisfied: faker in /usr/local/lib/python3.6/dist-packages (4.1.3)\n",
            "Requirement already satisfied: python-dateutil>=2.4 in /usr/local/lib/python3.6/dist-packages (from faker) (2.8.1)\n",
            "Requirement already satisfied: text-unidecode==1.3 in /usr/local/lib/python3.6/dist-packages (from faker) (1.3)\n",
            "Requirement already satisfied: six>=1.5 in /usr/local/lib/python3.6/dist-packages (from python-dateutil>=2.4->faker) (1.15.0)\n",
            "Requirement already satisfied: pandas-profiling in /usr/local/lib/python3.6/dist-packages (1.4.1)\n",
            "Requirement already satisfied: jinja2>=2.8 in /usr/local/lib/python3.6/dist-packages (from pandas-profiling) (2.11.2)\n",
            "Requirement already satisfied: matplotlib>=1.4 in /usr/local/lib/python3.6/dist-packages (from pandas-profiling) (3.2.2)\n",
            "Requirement already satisfied: six>=1.9 in /usr/local/lib/python3.6/dist-packages (from pandas-profiling) (1.15.0)\n",
            "Requirement already satisfied: pandas>=0.19 in /usr/local/lib/python3.6/dist-packages (from pandas-profiling) (1.0.5)\n",
            "Requirement already satisfied: MarkupSafe>=0.23 in /usr/local/lib/python3.6/dist-packages (from jinja2>=2.8->pandas-profiling) (1.1.1)\n",
            "Requirement already satisfied: python-dateutil>=2.1 in /usr/local/lib/python3.6/dist-packages (from matplotlib>=1.4->pandas-profiling) (2.8.1)\n",
            "Requirement already satisfied: kiwisolver>=1.0.1 in /usr/local/lib/python3.6/dist-packages (from matplotlib>=1.4->pandas-profiling) (1.2.0)\n",
            "Requirement already satisfied: numpy>=1.11 in /usr/local/lib/python3.6/dist-packages (from matplotlib>=1.4->pandas-profiling) (1.18.5)\n",
            "Requirement already satisfied: pyparsing!=2.0.4,!=2.1.2,!=2.1.6,>=2.0.1 in /usr/local/lib/python3.6/dist-packages (from matplotlib>=1.4->pandas-profiling) (2.4.7)\n",
            "Requirement already satisfied: cycler>=0.10 in /usr/local/lib/python3.6/dist-packages (from matplotlib>=1.4->pandas-profiling) (0.10.0)\n",
            "Requirement already satisfied: pytz>=2017.2 in /usr/local/lib/python3.6/dist-packages (from pandas>=0.19->pandas-profiling) (2018.9)\n"
          ],
          "name": "stdout"
        }
      ]
    },
    {
      "cell_type": "code",
      "metadata": {
        "id": "gl2HPvwIzSXl"
      },
      "source": [
        "from collections import namedtuple\n",
        "from collections import defaultdict\n",
        "from faker import Faker\n",
        "from datetime import date, datetime, timezone\n",
        "from time import perf_counter, localtime\n",
        "from functools import wraps\n",
        "import random\n",
        "import pandas as pd\n",
        "from time import perf_counter"
      ],
      "execution_count": null,
      "outputs": []
    },
    {
      "cell_type": "markdown",
      "metadata": {
        "id": "KjuUKanhz3Fh"
      },
      "source": [
        "## Validation Tests"
      ]
    },
    {
      "cell_type": "code",
      "metadata": {
        "id": "HTXQI665zYHB"
      },
      "source": [
        "# Validation Tests\n",
        "def validate_input(n):\n",
        "\tif not isinstance(n, int):\n",
        "\t\traise ValueError\n",
        "\n",
        "\n",
        "def validate_input_type(name, birthdate, sex, blood_group, current_location):\n",
        "\tif not isinstance(name, str):\n",
        "\t\traise ValueError\n",
        "\tif not isinstance(birthdate, datetime):\n",
        "\t\traise ValueError\n",
        "\tif not isinstance(sex, str):\n",
        "\t\traise ValueError\n",
        "\tif not isinstance(blood_group, str):\n",
        "\t\traise ValueError\n",
        "\tif not isinstance(current_location, tuple):\n",
        "\t\traise ValueError\n",
        "\n",
        "\n",
        "def validate_test_case(inp: list):\n",
        "\tif len(inp)<5:\n",
        "\t\traise ValueError\n",
        "\n",
        "def validate_reps(n):\n",
        "\tif not isinstance(n, int):\n",
        "\t\traise ValueError\n",
        "\n",
        "def validate_prop_input(n):\n",
        "\tif n < 100:\n",
        "\t\traise ValueError"
      ],
      "execution_count": null,
      "outputs": []
    },
    {
      "cell_type": "markdown",
      "metadata": {
        "id": "dJxZBktQz5eR"
      },
      "source": [
        "## Decorator"
      ]
    },
    {
      "cell_type": "code",
      "metadata": {
        "id": "K3fomjCYzgch"
      },
      "source": [
        "fake = Faker('en_IN')\n",
        "random_profile = namedtuple('Profile', ['name', 'age', 'sex', 'blood_group', 'location'])\n",
        "\n",
        "\n",
        "# lambda func to calculate age\n",
        "calculate_age = lambda birthdate: int((date.today() - birthdate).days / 365.2425)\n",
        "\n",
        "\n",
        "# REP DECORATOR\n",
        "def reps(n: int):\n",
        "    def timed(fn):\n",
        "        def inner(*args, **kwargs):\n",
        "            total_elapsed = 0\n",
        "            validate_reps(n)\n",
        "            for i in range(n):\n",
        "                start = perf_counter()\n",
        "                result = fn(*args, **kwargs)\n",
        "                total_elapsed += (perf_counter() - start)\n",
        "\n",
        "            avg_run_time = total_elapsed / n\n",
        "            print(f'Average Run time of {fn.__name__} is : {avg_run_time} seconds for {n} reps.')\n",
        "            return result\n",
        "        return inner\n",
        "    return timed"
      ],
      "execution_count": null,
      "outputs": []
    },
    {
      "cell_type": "markdown",
      "metadata": {
        "id": "R_tULgqyz7Nr"
      },
      "source": [
        "## Task 1"
      ]
    },
    {
      "cell_type": "code",
      "metadata": {
        "id": "v6lSVAIQzIYP",
        "outputId": "3cde4a8d-562e-47bd-927e-5db3810ff99c",
        "colab": {
          "base_uri": "https://localhost:8080/",
          "height": 129
        }
      },
      "source": [
        "profile_list = []\n",
        "\n",
        "fake_profiles = namedtuple('ProfileDetails', 'profile')\n",
        "test_ip = ['Rohan', datetime(1998,10,8), 'M', 'A+', (140,30)] \n",
        "\n",
        "@reps(2)\n",
        "def generate_random_profile(n: int, test=False, test_input=[]):\n",
        "\t'''\n",
        "\tGenerates Random Profile using NamedTuple\n",
        "\tArgs:\n",
        "\t\tn:- Number of Profiles to Generate\n",
        "\t'''\n",
        "\tvalidate_input(n)\n",
        "\tblood_type = defaultdict(lambda: 0)\n",
        "\n",
        "\tif test:\n",
        "\t\tvalidate_test_case(test_input)\n",
        "\t\tname, birthdate, sex, blood_group, current_location = test_input\n",
        "\t\tvalidate_input_type(name, birthdate, sex, blood_group, current_location)\n",
        "\t\tprofile = random_profile(name, calculate_age(birthdate), sex, blood_group, current_location)\n",
        "\t\tprofile_list.append(profile)\n",
        "\n",
        "\telse:\n",
        "\t\tfor i in range(n):\n",
        "\t\t\ta = fake.profile()\n",
        "\t\t\tprofile = random_profile(a['name'], calculate_age(a['birthdate']), a['sex'], a['blood_group'], a['current_location'])\n",
        "\t\t\tprofile_list.append(profile)\n",
        "\t\t\tblood_type[profile.blood_group] +=1 \n",
        "\n",
        "\n",
        "\treturn f'Summary of {n} Random Profiles: \\\n",
        "\t\t\t\\nThe avg age is {sum([i.age for i in profile_list])/len(profile_list)} years old.\\\n",
        "\t\t\t \\nThe oldest person alive is of {max([i.age for i in profile_list])} years. \\\n",
        "\t\t\t \\nThe average latitude & longitude value is ({sum([i.location[0] for i in profile_list])/len(profile_list)}, ({sum([i.location[1] for i in profile_list])/len(profile_list)}) Degrees.\\\n",
        "\t\t\t \\nThe Largest Blood Type is {sorted(blood_type.items(), key=lambda x: x[1], reverse=True)[0]}'\n",
        "\n",
        "\n",
        "print(generate_random_profile(10000))"
      ],
      "execution_count": null,
      "outputs": [
        {
          "output_type": "stream",
          "text": [
            "Average Run time of generate_random_profile is : 20.28163247499998 for 2 reps.\n",
            "Summary of 10000 Random Profiles: \t\t\t\n",
            "The avg age is 57.3953 years old.\t\t\t \n",
            "The oldest person alive is of 115 years. \t\t\t \n",
            "The average latitude & longitude value is (0.6805312445, (-0.3984424349) Degrees.\t\t\t \n",
            "The Largest Blood Type is ('O-', 1301)\n"
          ],
          "name": "stdout"
        }
      ]
    },
    {
      "cell_type": "markdown",
      "metadata": {
        "id": "cS9a8NTY0CGr"
      },
      "source": [
        "## Task 2"
      ]
    },
    {
      "cell_type": "code",
      "metadata": {
        "id": "XpCXfbgDzlaB",
        "outputId": "8d1ec691-d353-4ca2-ad87-90b34fa12885",
        "colab": {
          "base_uri": "https://localhost:8080/",
          "height": 166
        }
      },
      "source": [
        "profile_list2 = []\n",
        "\n",
        "blood_type = defaultdict(lambda: 0)\n",
        "\n",
        "@reps(2)\n",
        "def generate_random_profile_dicts(n: int):\n",
        "\t'''\n",
        "\tGenerates Random Profile using Dictionary\n",
        "\tArgs:\n",
        "\t\tn:- Number of Profiles to Generate\n",
        "\t'''\n",
        "\n",
        "\tvalidate_input(n)\n",
        "\tprint('-'*50)\n",
        "\n",
        "\n",
        "\tfor i in range(n):\n",
        "\t\tprofile_dict = defaultdict(lambda :0)\n",
        "\t\ta = fake.profile()\n",
        "\t\tkeys = ['name', 'birthdate', 'sex', 'blood_group', 'current_location']\n",
        "\t\tfor key in keys:\n",
        "\t\t\tprofile_dict[key] = a[key]\n",
        "\n",
        "\t\tkeys = ['name', 'sex', 'blood_group']\n",
        "\t\tfor key in keys:\n",
        "\t\t\tprofile_dict[key] = a[key]\n",
        "\n",
        "\t\tlocation = a['current_location']\n",
        "\t\tage = calculate_age(a['birthdate'])\n",
        "\t\t\n",
        "\t\tprofile_dict['location']  = location\n",
        "\t\tprofile_dict['age'] = age\n",
        "\n",
        "\t\tblood_type[profile_dict['blood_group']] += 1\n",
        "\n",
        "\t\tprofile_list2.append(profile_dict)\n",
        "\n",
        "\tavg_age = sum([i['age'] for i in profile_list2])/len(profile_list2)\n",
        "\tmax_age = max([i['age'] for i in profile_list2])\n",
        "\tavg_lat, avg_long = sum([i['location'][0] for i in profile_list2])/len(profile_list2), sum([i['location'][1] for i in profile_list2])/len(profile_list2)\n",
        "\n",
        "\treturn f'Summary of {n} Random Profiles: \\\n",
        "\t\t\t\\nThe avg age is {avg_age} years old.\\\n",
        "\t\t\t \\nThe oldest person alive is of {max_age} years. \\\n",
        "\t\t\t \\nThe average latitude & longitude value is ({avg_lat}, {avg_long}) Degrees.\\\n",
        "\t\t\t \\nThe Largest Blood Type is {sorted(blood_type.items(), key=lambda x: x[1], reverse=True)[0]}'\n",
        "\n",
        "\n",
        "\t\n",
        "print(generate_random_profile_dicts(10000))"
      ],
      "execution_count": null,
      "outputs": [
        {
          "output_type": "stream",
          "text": [
            "--------------------------------------------------\n",
            "--------------------------------------------------\n",
            "Average Run time of generate_random_profile_dicts is : 20.102740623499983 for 2 reps.\n",
            "Summary of 10000 Random Profiles: \t\t\t\n",
            "The avg age is 57.76195 years old.\t\t\t \n",
            "The oldest person alive is of 115 years. \t\t\t \n",
            "The average latitude & longitude value is (-0.0804716565, -0.29704250105) Degrees.\t\t\t \n",
            "The Largest Blood Type is ('A-', 2564)\n"
          ],
          "name": "stdout"
        }
      ]
    },
    {
      "cell_type": "markdown",
      "metadata": {
        "id": "9Yr9Nrz922GA"
      },
      "source": [
        "# namedtuple is Faster than Dictionary!"
      ]
    },
    {
      "cell_type": "markdown",
      "metadata": {
        "id": "r6nlTDdA0EH6"
      },
      "source": [
        "## Task 3"
      ]
    },
    {
      "cell_type": "code",
      "metadata": {
        "id": "j6Kes9o1zo5A",
        "outputId": "34f37c64-273f-4edf-ff8c-c46e5dcb4cd9",
        "colab": {
          "base_uri": "https://localhost:8080/",
          "height": 278
        }
      },
      "source": [
        "symbol_generator =  lambda x: str(x[:2] + x[-2:]).upper() if len(x.split()) == 1 else str(x.split()[0][:2]+x.split()[1][:2]).upper()\n",
        "\n",
        "companies = namedtuple('StockMarket', ['name', 'symbol', 'open', 'low', 'high', 'close'])\n",
        "\n",
        "weight_ = []\n",
        "company_stock_profiles = []\n",
        "\n",
        "def stock_exchange(n):\n",
        "\t'''\n",
        "\tGenerates Company Stock Profiles\n",
        "\tArgs:\n",
        "\t\tN = Number of profiles to be generated.\n",
        "\t'''\n",
        "\tvalidate_input(n)\n",
        "\tvalidate_prop_input(n)\n",
        "\t\n",
        "\tfor i in range(n):\n",
        "\t\tname_ = fake.company()\n",
        "\n",
        "\t\tsymbol_ = symbol_generator(name_)\n",
        "\n",
        "\t\topen_value = random.randint(100, 4000)\n",
        "\t\tcomp_weight = round(random.uniform(0,0.7),3)\n",
        "\n",
        "\t\tweight_.append(comp_weight)\n",
        "\n",
        "\t\tcomp_contrib = round(open_value * comp_weight/sum(weight_), 3)\n",
        "\n",
        "\t\thigh_value = round(random.uniform(0.8, 1.0) * open_value * comp_weight/sum(weight_), 3)\n",
        "\t\tclose_value = round(random.uniform(0.5,0.7) * open_value * comp_weight/sum(weight_), 3)\n",
        "\t\tlow_value = round(random.uniform(0.35,0.4) * open_value * comp_weight/sum(weight_), 3)\n",
        "\n",
        "\t\tcomp_profile = companies(name_, symbol_, open_value, low_value, high_value, close_value)\n",
        "\t\tcompany_stock_profiles.append(comp_profile)\n",
        "\n",
        "\n",
        "\tTotal = pd.DataFrame({'Company Name': ['GRAND TOTAL'] ,\n",
        "\t\t\t\t\t'Symbol': [' '],\n",
        "\t\t\t\t\t'Open': ['= '+str(round(sum([i.open for i in company_stock_profiles]), 3))], \n",
        "\t\t\t\t\t'Low': ['= '+str(round(sum([i.low for i in company_stock_profiles]), 3))],\n",
        "\t\t\t\t\t'High': ['= '+str(round(sum([i.high for i in company_stock_profiles]), 3))],\n",
        "\t\t\t\t\t'Close': ['= '+str(round(sum([i.close for i in company_stock_profiles]), 3))]\n",
        "\t\t\t\t\t\t\t})\n",
        "\n",
        "\tstock_index = pd.DataFrame({'Company Name': [i.name for i in company_stock_profiles],\n",
        "\t\t\t\t\t\t\t\t'Symbol': [i.symbol for i in company_stock_profiles],\n",
        "\t\t\t\t\t\t\t\t'Open': [i.open for i in company_stock_profiles], \n",
        "\t\t\t\t\t\t\t\t'Low': [i.low for i in company_stock_profiles],\n",
        "\t\t\t\t\t\t\t\t'High': [i.high for i in company_stock_profiles],\n",
        "\t\t\t\t\t\t\t\t'Close': [i.close for i in company_stock_profiles]\n",
        "\t\t\t\t\t\t\t\t})\n",
        "\treturn stock_index.append(Total)\n",
        "\n",
        "\n",
        "\n",
        "se_df = stock_exchange(100)\n",
        "print(se_df)\n"
      ],
      "execution_count": null,
      "outputs": [
        {
          "output_type": "stream",
          "text": [
            "                    Company Name Symbol  ...         High       Close\n",
            "0   Jackson, Williams and Porter   JAWI  ...      3568.63     2438.89\n",
            "1                       Long Ltd   LOLT  ...      117.782      82.248\n",
            "2      Freeman, Craig and Fisher   FRCR  ...      1479.94     975.399\n",
            "3         Williams, Ruiz and Lee   WIRU  ...      976.037     631.922\n",
            "4                 Holmes-Andrade   HODE  ...       35.655       19.95\n",
            "..                           ...    ...  ...          ...         ...\n",
            "96                  Barnes-Jones   BAES  ...         9.11       4.951\n",
            "97        Fuller, Cook and Lucas   FUCO  ...       12.615       7.899\n",
            "98                    Patton LLC   PALL  ...       40.693      28.096\n",
            "99   Salazar, Moore and Richards   SAMO  ...       33.272      20.666\n",
            "0                    GRAND TOTAL         ...  = 10463.012  = 6872.626\n",
            "\n",
            "[101 rows x 6 columns]\n"
          ],
          "name": "stdout"
        }
      ]
    },
    {
      "cell_type": "code",
      "metadata": {
        "id": "x3auVoch3ql9",
        "outputId": "2369e8af-fd08-4a7b-aa8b-09f866c4f7d5",
        "colab": {
          "base_uri": "https://localhost:8080/",
          "height": 175
        }
      },
      "source": [
        "se_df.describe()"
      ],
      "execution_count": null,
      "outputs": [
        {
          "output_type": "execute_result",
          "data": {
            "text/html": [
              "<div>\n",
              "<style scoped>\n",
              "    .dataframe tbody tr th:only-of-type {\n",
              "        vertical-align: middle;\n",
              "    }\n",
              "\n",
              "    .dataframe tbody tr th {\n",
              "        vertical-align: top;\n",
              "    }\n",
              "\n",
              "    .dataframe thead th {\n",
              "        text-align: right;\n",
              "    }\n",
              "</style>\n",
              "<table border=\"1\" class=\"dataframe\">\n",
              "  <thead>\n",
              "    <tr style=\"text-align: right;\">\n",
              "      <th></th>\n",
              "      <th>Company Name</th>\n",
              "      <th>Symbol</th>\n",
              "      <th>Open</th>\n",
              "      <th>Low</th>\n",
              "      <th>High</th>\n",
              "      <th>Close</th>\n",
              "    </tr>\n",
              "  </thead>\n",
              "  <tbody>\n",
              "    <tr>\n",
              "      <th>count</th>\n",
              "      <td>101</td>\n",
              "      <td>101</td>\n",
              "      <td>101</td>\n",
              "      <td>101.000</td>\n",
              "      <td>101.000</td>\n",
              "      <td>101.00</td>\n",
              "    </tr>\n",
              "    <tr>\n",
              "      <th>unique</th>\n",
              "      <td>101</td>\n",
              "      <td>101</td>\n",
              "      <td>100</td>\n",
              "      <td>101.000</td>\n",
              "      <td>101.000</td>\n",
              "      <td>101.00</td>\n",
              "    </tr>\n",
              "    <tr>\n",
              "      <th>top</th>\n",
              "      <td>Armstrong Group</td>\n",
              "      <td>FIPL</td>\n",
              "      <td>233</td>\n",
              "      <td>6.642</td>\n",
              "      <td>53.724</td>\n",
              "      <td>84.76</td>\n",
              "    </tr>\n",
              "    <tr>\n",
              "      <th>freq</th>\n",
              "      <td>1</td>\n",
              "      <td>1</td>\n",
              "      <td>2</td>\n",
              "      <td>1.000</td>\n",
              "      <td>1.000</td>\n",
              "      <td>1.00</td>\n",
              "    </tr>\n",
              "  </tbody>\n",
              "</table>\n",
              "</div>"
            ],
            "text/plain": [
              "           Company Name Symbol  Open      Low     High   Close\n",
              "count               101    101   101  101.000  101.000  101.00\n",
              "unique              101    101   100  101.000  101.000  101.00\n",
              "top     Armstrong Group   FIPL   233    6.642   53.724   84.76\n",
              "freq                  1      1     2    1.000    1.000    1.00"
            ]
          },
          "metadata": {
            "tags": []
          },
          "execution_count": 17
        }
      ]
    },
    {
      "cell_type": "code",
      "metadata": {
        "id": "fNjez6eS4c2x",
        "outputId": "94d11794-e291-4bc3-92d0-d2976c318c2d",
        "colab": {
          "base_uri": "https://localhost:8080/",
          "height": 206
        }
      },
      "source": [
        "se_df.head()"
      ],
      "execution_count": null,
      "outputs": [
        {
          "output_type": "execute_result",
          "data": {
            "text/html": [
              "<div>\n",
              "<style scoped>\n",
              "    .dataframe tbody tr th:only-of-type {\n",
              "        vertical-align: middle;\n",
              "    }\n",
              "\n",
              "    .dataframe tbody tr th {\n",
              "        vertical-align: top;\n",
              "    }\n",
              "\n",
              "    .dataframe thead th {\n",
              "        text-align: right;\n",
              "    }\n",
              "</style>\n",
              "<table border=\"1\" class=\"dataframe\">\n",
              "  <thead>\n",
              "    <tr style=\"text-align: right;\">\n",
              "      <th></th>\n",
              "      <th>Company Name</th>\n",
              "      <th>Symbol</th>\n",
              "      <th>Open</th>\n",
              "      <th>Low</th>\n",
              "      <th>High</th>\n",
              "      <th>Close</th>\n",
              "    </tr>\n",
              "  </thead>\n",
              "  <tbody>\n",
              "    <tr>\n",
              "      <th>0</th>\n",
              "      <td>Jackson, Williams and Porter</td>\n",
              "      <td>JAWI</td>\n",
              "      <td>3898</td>\n",
              "      <td>1365.89</td>\n",
              "      <td>3568.63</td>\n",
              "      <td>2438.89</td>\n",
              "    </tr>\n",
              "    <tr>\n",
              "      <th>1</th>\n",
              "      <td>Long Ltd</td>\n",
              "      <td>LOLT</td>\n",
              "      <td>233</td>\n",
              "      <td>44.625</td>\n",
              "      <td>117.782</td>\n",
              "      <td>82.248</td>\n",
              "    </tr>\n",
              "    <tr>\n",
              "      <th>2</th>\n",
              "      <td>Freeman, Craig and Fisher</td>\n",
              "      <td>FRCR</td>\n",
              "      <td>3607</td>\n",
              "      <td>568.181</td>\n",
              "      <td>1479.94</td>\n",
              "      <td>975.399</td>\n",
              "    </tr>\n",
              "    <tr>\n",
              "      <th>3</th>\n",
              "      <td>Williams, Ruiz and Lee</td>\n",
              "      <td>WIRU</td>\n",
              "      <td>3257</td>\n",
              "      <td>391.267</td>\n",
              "      <td>976.037</td>\n",
              "      <td>631.922</td>\n",
              "    </tr>\n",
              "    <tr>\n",
              "      <th>4</th>\n",
              "      <td>Holmes-Andrade</td>\n",
              "      <td>HODE</td>\n",
              "      <td>248</td>\n",
              "      <td>14.182</td>\n",
              "      <td>35.655</td>\n",
              "      <td>19.95</td>\n",
              "    </tr>\n",
              "  </tbody>\n",
              "</table>\n",
              "</div>"
            ],
            "text/plain": [
              "                   Company Name Symbol  Open      Low     High    Close\n",
              "0  Jackson, Williams and Porter   JAWI  3898  1365.89  3568.63  2438.89\n",
              "1                      Long Ltd   LOLT   233   44.625  117.782   82.248\n",
              "2     Freeman, Craig and Fisher   FRCR  3607  568.181  1479.94  975.399\n",
              "3        Williams, Ruiz and Lee   WIRU  3257  391.267  976.037  631.922\n",
              "4                Holmes-Andrade   HODE   248   14.182   35.655    19.95"
            ]
          },
          "metadata": {
            "tags": []
          },
          "execution_count": 18
        }
      ]
    }
  ]
}